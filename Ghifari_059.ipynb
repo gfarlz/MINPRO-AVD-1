{
  "nbformat": 4,
  "nbformat_minor": 0,
  "metadata": {
    "colab": {
      "provenance": []
    },
    "kernelspec": {
      "name": "python3",
      "display_name": "Python 3"
    },
    "language_info": {
      "name": "python"
    }
  },
  "cells": [
    {
      "cell_type": "markdown",
      "source": [
        "#**BUSINESS UNDERSTANDING**\n",
        "##Analisis Faktor yang Mempengaruhi Harga Mobil Sport"
      ],
      "metadata": {
        "id": "i-Y5iynMj1Sa"
      }
    },
    {
      "cell_type": "markdown",
      "source": [
        "##**TUJUAN BISNIS**\n",
        "\n",
        "Dengan mengetahui variabel yang memiliki dampak signifikan terhadap harga, berbagai pihak dapat mengambil keputusan yang lebih baik. Produsen dan dealer mobil dapat memanfaatkan hasil analisis ini untuk menyusun strategi harga yang lebih optimal, sementara calon pembeli dapat memahami apakah harga mobil yang mereka incar sesuai dengan spesifikasinya. Selain itu, investor dan kolektor mobil dapat mengidentifikasi mobil sport dengan nilai investasi terbaik di masa depan. Secara keseluruhan, proyek ini berkontribusi pada peningkatan pemahaman pasar mobil sport, membantu optimalisasi strategi harga, serta mendukung pengambilan keputusan yang lebih berbasis data."
      ],
      "metadata": {
        "id": "pe1MGBQqkM6p"
      }
    },
    {
      "cell_type": "markdown",
      "source": [
        "##**MENILAI SITUASI**\n",
        "\n",
        " Untuk mendapatkan wawasan yang akurat, penting untuk memahami situasi bisnis dalam industri mobil sport. Harga mobil sport dipengaruhi oleh berbagai faktor internal, seperti spesifikasi teknis (tenaga kuda, torsi, akselerasi, ukuran mesin), serta faktor eksternal seperti tren pasar, permintaan konsumen, dan persaingan antar produsen. Selain itu, harga mobil juga bisa dipengaruhi oleh faktor non-teknis, seperti merek dan kelangkaan model tertentu. Tren industri saat ini menunjukkan bahwa performa kendaraan masih menjadi salah satu faktor utama dalam menentukan harga, tetapi elemen seperti efisiensi bahan bakar dan inovasi teknologi juga mulai mendapat perhatian lebih dari konsumen. Oleh karena itu, analisis ini harus mempertimbangkan berbagai aspek agar dapat memberikan wawasan yang relevan dan aplikatif."
      ],
      "metadata": {
        "id": "UzSJIz7Tkasw"
      }
    },
    {
      "cell_type": "markdown",
      "source": [
        "##**TUJUAN ANALITIK**\n",
        "\n",
        "Dari sisi analisis data, proyek ini bertujuan untuk mengidentifikasi dan mengukur pengaruh variabel tertentu terhadap harga mobil sport. Variabel yang akan dianalisis mencakup tenaga kuda, torsi, akselerasi, dan ukuran mesin. Analisis ini akan menjawab pertanyaan seberapa besar pengaruh masing-masing faktor terhadap harga mobil sport serta apakah ada pola atau hubungan tertentu antara variabel tersebut. Hasil dari analisis ini diharapkan dapat memberikan wawasan tentang bagaimana spesifikasi teknis berkontribusi terhadap harga mobil, serta apakah ada faktor yang lebih dominan dibandingkan yang lain. Jika ditemukan hubungan yang kuat, hasil ini juga dapat digunakan untuk membangun model prediksi harga mobil sport berdasarkan spesifikasinya."
      ],
      "metadata": {
        "id": "HoBG1WhFkdOT"
      }
    },
    {
      "cell_type": "markdown",
      "source": [
        "#**PERENCANAAN PROYEK**\n",
        "\n",
        "Agar proyek ini berjalan secara sistematis, perencanaan yang jelas diperlukan. Tahapan pertama adalah pengumpulan dan persiapan data, yang mencakup pembersihan data, konversi format jika diperlukan, serta pemilihan variabel yang akan digunakan dalam analisis. Selanjutnya, dilakukan eksplorasi data awal dengan visualisasi dan analisis statistik deskriptif untuk memahami pola dalam dataset. Setelah itu, analisis lebih lanjut dilakukan dengan metode statistik seperti regresi atau model machine learning untuk mengukur sejauh mana setiap variabel mempengaruhi harga mobil sport. Model yang dikembangkan kemudian dievaluasi untuk memastikan akurasinya sebelum ditarik kesimpulan. Terakhir, hasil analisis akan disusun dalam laporan atau presentasi, yang dapat mencakup grafik, tabel, serta interpretasi mendalam dari temuan yang diperoleh. Jika memungkinkan, dibuat juga dashboard interaktif untuk mempermudah eksplorasi data lebih lanjut.\n",
        "\n"
      ],
      "metadata": {
        "id": "R-wGPzq34WNJ"
      }
    }
  ]
}